{
 "cells": [
  {
   "cell_type": "code",
   "execution_count": 7,
   "metadata": {},
   "outputs": [],
   "source": [
    "from sklearn.datasets import load_iris\n",
    " \n",
    "iris_dataset = load_iris() # 붓꽃 데이터셋을 적재합니다"
   ]
  },
  {
   "cell_type": "code",
   "execution_count": 8,
   "metadata": {},
   "outputs": [],
   "source": [
    "from sklearn.model_selection import train_test_split\n",
    " \n",
    "X_train, X_test, y_train, y_test = train_test_split(iris_dataset['data'], iris_dataset['target'], test_size = 0.2)\n",
    "# 데이터셋을 랜덤하게 80%의 훈련셋과 20%의 테스트셋으로 분리합니다."
   ]
  },
  {
   "cell_type": "code",
   "execution_count": 9,
   "metadata": {
    "scrolled": true
   },
   "outputs": [
    {
     "name": "stdout",
     "output_type": "stream",
     "text": [
      "[[6.3 2.5 5.  1.9]\n",
      " [7.4 2.8 6.1 1.9]\n",
      " [5.9 3.  5.1 1.8]\n",
      " [5.1 2.5 3.  1.1]\n",
      " [5.4 3.9 1.3 0.4]\n",
      " [5.7 2.8 4.5 1.3]\n",
      " [6.2 2.9 4.3 1.3]\n",
      " [6.1 2.9 4.7 1.4]\n",
      " [6.3 3.3 6.  2.5]\n",
      " [5.7 2.6 3.5 1. ]\n",
      " [4.8 3.4 1.6 0.2]\n",
      " [6.5 3.2 5.1 2. ]\n",
      " [6.4 3.1 5.5 1.8]\n",
      " [5.8 2.7 4.1 1. ]\n",
      " [5.7 2.5 5.  2. ]\n",
      " [5.7 2.9 4.2 1.3]\n",
      " [5.6 2.7 4.2 1.3]\n",
      " [4.5 2.3 1.3 0.3]\n",
      " [5.  3.  1.6 0.2]\n",
      " [4.6 3.2 1.4 0.2]\n",
      " [4.6 3.4 1.4 0.3]\n",
      " [6.9 3.1 5.4 2.1]\n",
      " [4.9 3.  1.4 0.2]\n",
      " [6.1 2.8 4.7 1.2]\n",
      " [5.8 2.7 5.1 1.9]\n",
      " [6.9 3.2 5.7 2.3]\n",
      " [5.5 3.5 1.3 0.2]\n",
      " [7.2 3.  5.8 1.6]\n",
      " [5.  3.4 1.5 0.2]\n",
      " [6.3 2.9 5.6 1.8]\n",
      " [6.  3.4 4.5 1.6]\n",
      " [4.6 3.6 1.  0.2]\n",
      " [4.9 3.1 1.5 0.1]\n",
      " [7.2 3.2 6.  1.8]\n",
      " [5.6 2.9 3.6 1.3]\n",
      " [6.3 2.7 4.9 1.8]\n",
      " [6.3 2.8 5.1 1.5]\n",
      " [7.3 2.9 6.3 1.8]\n",
      " [6.  2.2 4.  1. ]\n",
      " [6.6 3.  4.4 1.4]\n",
      " [6.  2.9 4.5 1.5]\n",
      " [4.4 3.  1.3 0.2]\n",
      " [6.2 2.2 4.5 1.5]\n",
      " [5.9 3.  4.2 1.5]\n",
      " [6.4 3.2 5.3 2.3]\n",
      " [7.2 3.6 6.1 2.5]\n",
      " [5.  3.3 1.4 0.2]\n",
      " [5.  2.  3.5 1. ]\n",
      " [5.  3.5 1.6 0.6]\n",
      " [6.  2.7 5.1 1.6]\n",
      " [5.5 2.6 4.4 1.2]\n",
      " [5.1 3.4 1.5 0.2]\n",
      " [6.2 2.8 4.8 1.8]\n",
      " [5.  3.5 1.3 0.3]\n",
      " [7.  3.2 4.7 1.4]\n",
      " [5.2 3.5 1.5 0.2]\n",
      " [5.4 3.7 1.5 0.2]\n",
      " [6.1 2.6 5.6 1.4]\n",
      " [6.9 3.1 4.9 1.5]\n",
      " [6.3 2.3 4.4 1.3]\n",
      " [6.3 2.5 4.9 1.5]\n",
      " [7.9 3.8 6.4 2. ]\n",
      " [6.4 3.2 4.5 1.5]\n",
      " [5.2 4.1 1.5 0.1]\n",
      " [6.7 3.  5.  1.7]\n",
      " [4.6 3.1 1.5 0.2]\n",
      " [6.6 2.9 4.6 1.3]\n",
      " [7.1 3.  5.9 2.1]\n",
      " [6.  3.  4.8 1.8]\n",
      " [5.  2.3 3.3 1. ]\n",
      " [5.9 3.2 4.8 1.8]\n",
      " [6.1 3.  4.6 1.4]\n",
      " [7.7 2.6 6.9 2.3]\n",
      " [5.1 3.5 1.4 0.2]\n",
      " [5.5 2.4 3.8 1.1]\n",
      " [5.5 2.3 4.  1.3]\n",
      " [6.7 3.  5.2 2.3]\n",
      " [5.1 3.3 1.7 0.5]\n",
      " [5.7 3.8 1.7 0.3]\n",
      " [5.  3.6 1.4 0.2]\n",
      " [6.1 2.8 4.  1.3]\n",
      " [7.6 3.  6.6 2.1]\n",
      " [4.8 3.  1.4 0.3]\n",
      " [5.7 3.  4.2 1.2]\n",
      " [6.  2.2 5.  1.5]\n",
      " [4.3 3.  1.1 0.1]\n",
      " [6.7 3.3 5.7 2.5]\n",
      " [5.6 3.  4.1 1.3]\n",
      " [5.7 4.4 1.5 0.4]\n",
      " [6.1 3.  4.9 1.8]\n",
      " [5.6 3.  4.5 1.5]\n",
      " [6.8 3.2 5.9 2.3]\n",
      " [4.8 3.4 1.9 0.2]\n",
      " [5.6 2.8 4.9 2. ]\n",
      " [6.7 3.1 4.4 1.4]\n",
      " [5.1 3.8 1.6 0.2]\n",
      " [4.9 3.1 1.5 0.2]\n",
      " [5.8 2.6 4.  1.2]\n",
      " [4.9 2.5 4.5 1.7]\n",
      " [5.3 3.7 1.5 0.2]\n",
      " [5.2 3.4 1.4 0.2]\n",
      " [4.7 3.2 1.3 0.2]\n",
      " [4.7 3.2 1.6 0.2]\n",
      " [6.7 3.3 5.7 2.1]\n",
      " [6.5 3.  5.2 2. ]\n",
      " [6.7 3.1 5.6 2.4]\n",
      " [4.9 3.6 1.4 0.1]\n",
      " [5.5 4.2 1.4 0.2]\n",
      " [5.4 3.4 1.5 0.4]\n",
      " [7.7 3.8 6.7 2.2]\n",
      " [6.4 2.8 5.6 2.2]\n",
      " [5.6 2.5 3.9 1.1]\n",
      " [5.8 4.  1.2 0.2]\n",
      " [5.  3.4 1.6 0.4]\n",
      " [5.8 2.7 3.9 1.2]\n",
      " [5.4 3.9 1.7 0.4]\n",
      " [5.  3.2 1.2 0.2]\n",
      " [6.7 2.5 5.8 1.8]\n",
      " [5.5 2.4 3.7 1. ]\n",
      " [5.1 3.8 1.5 0.3]]\n"
     ]
    }
   ],
   "source": [
    "print(X_train)"
   ]
  },
  {
   "cell_type": "code",
   "execution_count": 10,
   "metadata": {},
   "outputs": [
    {
     "name": "stdout",
     "output_type": "stream",
     "text": [
      "특성1 범위:  [ 4.3 , 7.9 ]\n",
      "특성2 범위:  [ 2.0 , 4.4 ]\n",
      "특성3 범위:  [ 1.0 , 6.9 ]\n",
      "특성4 범위:  [ 0.1 , 2.5 ]\n"
     ]
    }
   ],
   "source": [
    "print(\"특성1 범위: \", \"[\", min(X_train[:, 0]), \",\", max(X_train[:, 0]), \"]\")\n",
    "print(\"특성2 범위: \", \"[\", min(X_train[:, 1]), \",\", max(X_train[:, 1]), \"]\")\n",
    "print(\"특성3 범위: \", \"[\", min(X_train[:, 2]), \",\", max(X_train[:, 2]), \"]\")\n",
    "print(\"특성4 범위: \", \"[\", min(X_train[:, 3]), \",\", max(X_train[:, 3]), \"]\")\n"
   ]
  },
  {
   "cell_type": "code",
   "execution_count": 11,
   "metadata": {},
   "outputs": [],
   "source": [
    "from sklearn.preprocessing import StandardScaler\n",
    " \n",
    "sc = StandardScaler()\n",
    "sc.fit(X_train)\n",
    " \n",
    "X_train_std = sc.transform(X_train)\n",
    "X_test_std = sc.transform(X_test)"
   ]
  },
  {
   "cell_type": "code",
   "execution_count": 12,
   "metadata": {},
   "outputs": [
    {
     "name": "stdout",
     "output_type": "stream",
     "text": [
      "표준화된 특성1 범위:  [ -1.8801744737341672 , 2.558270185572716 ]\n",
      "표준화된 특성2 범위:  [ -2.3319799833170975 , 2.914974979146372 ]\n",
      "표준화된 특성3 범위:  [ -1.5129512469687252 , 1.8157295574248666 ]\n",
      "표준화된 특성4 범위:  [ -1.4063347174971899 , 1.7979722337622304 ]\n"
     ]
    }
   ],
   "source": [
    "print(\"표준화된 특성1 범위: \", \"[\", min(X_train_std[:, 0]), \",\", max(X_train_std[:, 0]), \"]\")\n",
    "print(\"표준화된 특성2 범위: \", \"[\", min(X_train_std[:, 1]), \",\", max(X_train_std[:, 1]), \"]\")\n",
    "print(\"표준화된 특성3 범위: \", \"[\", min(X_train_std[:, 2]), \",\", max(X_train_std[:, 2]), \"]\")\n",
    "print(\"표준화된 특성4 범위: \", \"[\", min(X_train_std[:, 3]), \",\", max(X_train_std[:, 3]), \"]\")\n"
   ]
  },
  {
   "cell_type": "code",
   "execution_count": 13,
   "metadata": {},
   "outputs": [
    {
     "data": {
      "text/plain": [
       "SVC(C=8, gamma=0.1)"
      ]
     },
     "execution_count": 13,
     "metadata": {},
     "output_type": "execute_result"
    }
   ],
   "source": [
    "from sklearn.svm import SVC\n",
    " \n",
    "svm_model = SVC(kernel='rbf', C=8, gamma=0.1)\n",
    " \n",
    "svm_model.fit(X_train_std, y_train) # SVM 분류 모델 훈련"
   ]
  },
  {
   "cell_type": "code",
   "execution_count": 15,
   "metadata": {},
   "outputs": [],
   "source": [
    "y_pred = svm_model.predict(X_test_std) # 테스트"
   ]
  },
  {
   "cell_type": "code",
   "execution_count": 16,
   "metadata": {},
   "outputs": [
    {
     "name": "stdout",
     "output_type": "stream",
     "text": [
      "예측된 라벨: [1 2 0 2 0 2 1 1 0 0 1 2 0 2 1 1 1 2 2 0 2 2 2 2 1 0 1 1 2 0]\n",
      "ground-truth 라벨: [1 2 0 2 0 2 1 1 0 0 1 2 0 2 1 1 1 2 2 0 2 2 2 2 1 0 1 1 2 0]\n"
     ]
    }
   ],
   "source": [
    "print(\"예측된 라벨:\", y_pred)\n",
    "print(\"ground-truth 라벨:\", y_test)"
   ]
  },
  {
   "cell_type": "code",
   "execution_count": 20,
   "metadata": {},
   "outputs": [],
   "source": [
    "import numpy as np"
   ]
  },
  {
   "cell_type": "code",
   "execution_count": 21,
   "metadata": {},
   "outputs": [
    {
     "name": "stdout",
     "output_type": "stream",
     "text": [
      "prediction accuracy: 1.00\n"
     ]
    }
   ],
   "source": [
    "print(\"prediction accuracy: {:.2f}\".format(np.mean(y_pred == y_test))) # 예측 정확도"
   ]
  },
  {
   "cell_type": "code",
   "execution_count": null,
   "metadata": {},
   "outputs": [],
   "source": []
  }
 ],
 "metadata": {
  "kernelspec": {
   "display_name": "Python 3",
   "language": "python",
   "name": "python3"
  },
  "language_info": {
   "codemirror_mode": {
    "name": "ipython",
    "version": 3
   },
   "file_extension": ".py",
   "mimetype": "text/x-python",
   "name": "python",
   "nbconvert_exporter": "python",
   "pygments_lexer": "ipython3",
   "version": "3.8.3"
  }
 },
 "nbformat": 4,
 "nbformat_minor": 4
}
