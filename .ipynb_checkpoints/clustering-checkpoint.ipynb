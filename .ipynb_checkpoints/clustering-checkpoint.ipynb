{
 "cells": [
  {
   "cell_type": "markdown",
   "metadata": {},
   "source": [
    "### KMeans"
   ]
  },
  {
   "cell_type": "code",
   "execution_count": 2,
   "metadata": {},
   "outputs": [
    {
     "data": {
      "text/html": [
       "<div>\n",
       "<style scoped>\n",
       "    .dataframe tbody tr th:only-of-type {\n",
       "        vertical-align: middle;\n",
       "    }\n",
       "\n",
       "    .dataframe tbody tr th {\n",
       "        vertical-align: top;\n",
       "    }\n",
       "\n",
       "    .dataframe thead th {\n",
       "        text-align: right;\n",
       "    }\n",
       "</style>\n",
       "<table border=\"1\" class=\"dataframe\">\n",
       "  <thead>\n",
       "    <tr style=\"text-align: right;\">\n",
       "      <th></th>\n",
       "      <th>Semester</th>\n",
       "      <th>Name</th>\n",
       "      <th>Course</th>\n",
       "      <th>Mark</th>\n",
       "      <th>Attended</th>\n",
       "    </tr>\n",
       "  </thead>\n",
       "  <tbody>\n",
       "    <tr>\n",
       "      <th>0</th>\n",
       "      <td>FSS2010</td>\n",
       "      <td>Alex Krausche</td>\n",
       "      <td>Database Systems I</td>\n",
       "      <td>1.3</td>\n",
       "      <td>13</td>\n",
       "    </tr>\n",
       "    <tr>\n",
       "      <th>1</th>\n",
       "      <td>FSS2010</td>\n",
       "      <td>Tanja Becker</td>\n",
       "      <td>Database Systems I</td>\n",
       "      <td>2.0</td>\n",
       "      <td>12</td>\n",
       "    </tr>\n",
       "    <tr>\n",
       "      <th>2</th>\n",
       "      <td>FSS2010</td>\n",
       "      <td>Mariano Selina</td>\n",
       "      <td>Database Systems I</td>\n",
       "      <td>1.7</td>\n",
       "      <td>5</td>\n",
       "    </tr>\n",
       "    <tr>\n",
       "      <th>3</th>\n",
       "      <td>FSS2010</td>\n",
       "      <td>Otto Blacher</td>\n",
       "      <td>Database Systems I</td>\n",
       "      <td>2.3</td>\n",
       "      <td>13</td>\n",
       "    </tr>\n",
       "    <tr>\n",
       "      <th>4</th>\n",
       "      <td>FSS2010</td>\n",
       "      <td>Frank Fester</td>\n",
       "      <td>Database Systems I</td>\n",
       "      <td>2.0</td>\n",
       "      <td>13</td>\n",
       "    </tr>\n",
       "  </tbody>\n",
       "</table>\n",
       "</div>"
      ],
      "text/plain": [
       "  Semester            Name              Course  Mark  Attended\n",
       "0  FSS2010   Alex Krausche  Database Systems I   1.3        13\n",
       "1  FSS2010    Tanja Becker  Database Systems I   2.0        12\n",
       "2  FSS2010  Mariano Selina  Database Systems I   1.7         5\n",
       "3  FSS2010    Otto Blacher  Database Systems I   2.3        13\n",
       "4  FSS2010    Frank Fester  Database Systems I   2.0        13"
      ]
     },
     "metadata": {},
     "output_type": "display_data"
    }
   ],
   "source": [
    "# 패키지 불러오기\n",
    "import pandas as pd\n",
    "\n",
    "# 데이터 읽기\n",
    "student_data = pd.read_excel('./data/ex1.xls')\n",
    "\n",
    "# 데이터 개요 살펴보기\n",
    "display(student_data.head())"
   ]
  },
  {
   "cell_type": "code",
   "execution_count": 3,
   "metadata": {},
   "outputs": [
    {
     "data": {
      "text/html": [
       "<div>\n",
       "<style scoped>\n",
       "    .dataframe tbody tr th:only-of-type {\n",
       "        vertical-align: middle;\n",
       "    }\n",
       "\n",
       "    .dataframe tbody tr th {\n",
       "        vertical-align: top;\n",
       "    }\n",
       "\n",
       "    .dataframe thead th {\n",
       "        text-align: right;\n",
       "    }\n",
       "</style>\n",
       "<table border=\"1\" class=\"dataframe\">\n",
       "  <thead>\n",
       "    <tr style=\"text-align: right;\">\n",
       "      <th></th>\n",
       "      <th>Mark</th>\n",
       "      <th>Attended</th>\n",
       "    </tr>\n",
       "    <tr>\n",
       "      <th>Name</th>\n",
       "      <th></th>\n",
       "      <th></th>\n",
       "    </tr>\n",
       "  </thead>\n",
       "  <tbody>\n",
       "    <tr>\n",
       "      <th>Alex Krausche</th>\n",
       "      <td>1.325</td>\n",
       "      <td>12.500000</td>\n",
       "    </tr>\n",
       "    <tr>\n",
       "      <th>Avid Morvita</th>\n",
       "      <td>3.100</td>\n",
       "      <td>11.333333</td>\n",
       "    </tr>\n",
       "    <tr>\n",
       "      <th>Frank Fester</th>\n",
       "      <td>2.200</td>\n",
       "      <td>11.600000</td>\n",
       "    </tr>\n",
       "    <tr>\n",
       "      <th>Mariano Selina</th>\n",
       "      <td>1.680</td>\n",
       "      <td>6.200000</td>\n",
       "    </tr>\n",
       "    <tr>\n",
       "      <th>Michaela Martke</th>\n",
       "      <td>3.660</td>\n",
       "      <td>7.400000</td>\n",
       "    </tr>\n",
       "  </tbody>\n",
       "</table>\n",
       "</div>"
      ],
      "text/plain": [
       "                  Mark   Attended\n",
       "Name                             \n",
       "Alex Krausche    1.325  12.500000\n",
       "Avid Morvita     3.100  11.333333\n",
       "Frank Fester     2.200  11.600000\n",
       "Mariano Selina   1.680   6.200000\n",
       "Michaela Martke  3.660   7.400000"
      ]
     },
     "metadata": {},
     "output_type": "display_data"
    }
   ],
   "source": [
    "# 이름으로 그룹핑하여 평균값 구하기\n",
    "students = student_data.groupby('Name').mean()\n",
    "\n",
    "# 다시 데이터 살펴보기 \n",
    "display(students.head())"
   ]
  },
  {
   "cell_type": "code",
   "execution_count": 6,
   "metadata": {},
   "outputs": [
    {
     "data": {
      "image/png": "[encoded data removed]",
      "text/plain": [
       "<Figure size 432x288 with 1 Axes>"
      ]
     },
     "metadata": {
      "needs_background": "light"
     },
     "output_type": "display_data"
    }
   ],
   "source": [
    "from sklearn.cluster import KMeans\n",
    "import matplotlib.pyplot as plt\n",
    "\n",
    "# k=3 클러스터 생성\n",
    "estimator = KMeans(n_clusters = 3)\n",
    "cluster_ids = estimator.fit_predict(students)\n",
    "\n",
    "# 플롯\n",
    "plt.scatter(students['Attended'], students['Mark'], c=cluster_ids)\n",
    "plt.xlabel(\"Attended classes\")\n",
    "plt.ylabel(\"Mark\")\n",
    "\n",
    "# 범례 달기\n",
    "for name, mark, attended in students.itertuples():\n",
    "    plt.annotate(name, (attended, mark))\n",
    "    \n",
    "plt.show()"
   ]
  },
  {
   "cell_type": "markdown",
   "metadata": {},
   "source": [
    "### Hierarchical"
   ]
  },
  {
   "cell_type": "code",
   "execution_count": 8,
   "metadata": {},
   "outputs": [
    {
     "data": {
      "image/png": "[encoded data removed]",
      "text/plain": [
       "<Figure size 1440x360 with 3 Axes>"
      ]
     },
     "metadata": {
      "needs_background": "light"
     },
     "output_type": "display_data"
    }
   ],
   "source": [
    "from scipy.cluster.hierarchy import dendrogram, linkage\n",
    "\n",
    "# 최단연결법은 single, 평균연결법은 average, 최장연결법은 complete으로 표기한다.\n",
    "modes = ['single', 'average', 'complete']\n",
    "\n",
    "plt.figure(figsize=(20,5))\n",
    "\n",
    "# subplot() 함수를 사용하여 서브 플롯을 추가하고 반환 값을 y_axis라는 변수에 할당\n",
    "# sharey 매개 변수를 사용하여 서브 플롯에 대한 모든 호출에 이 변수를 전달하여 모든 플롯이 동일한 y 축 사용\n",
    "y_axis = None\n",
    "\n",
    "# 모든 linkage mode 반복 생성\n",
    "for i, mode in enumerate(modes):\n",
    "    # 서브플롯 추가, y축은 공유\n",
    "    y_axis = plt.subplot(1, 4, i + 1, sharey = y_axis)\n",
    "    \n",
    "    # 레이블링\n",
    "    plt.title('Dendrogram - linkage mode: {}'.format(mode))\n",
    "    plt.xlabel('distance')\n",
    "    plt.ylabel('student')\n",
    "    \n",
    "    # 클러스터링\n",
    "    clustering = linkage(students[['Mark', 'Attended']], mode)\n",
    "    \n",
    "    # 덴드로그램\n",
    "    dendrogram(clustering, labels=list(students.index), orientation='right')\n",
    "plt.tight_layout()\n",
    "plt.show()"
   ]
  }
 ],
 "metadata": {
  "kernelspec": {
   "display_name": "Python 3",
   "language": "python",
   "name": "python3"
  },
  "language_info": {
   "codemirror_mode": {
    "name": "ipython",
    "version": 3
   },
   "file_extension": ".py",
   "mimetype": "text/x-python",
   "name": "python",
   "nbconvert_exporter": "python",
   "pygments_lexer": "ipython3",
   "version": "3.8.3"
  }
 },
 "nbformat": 4,
 "nbformat_minor": 4
}
