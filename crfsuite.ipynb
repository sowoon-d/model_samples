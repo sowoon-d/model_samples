{
 "cells": [
  {
   "cell_type": "code",
   "execution_count": 1,
   "metadata": {},
   "outputs": [
    {
     "name": "stdout",
     "output_type": "stream",
     "text": [
      "Collecting python-crfsuite\n",
      "  Downloading python_crfsuite-0.9.7-cp36-cp36m-win_amd64.whl (154 kB)\n",
      "Installing collected packages: python-crfsuite\n",
      "Successfully installed python-crfsuite-0.9.7\n"
     ]
    }
   ],
   "source": [
    "!pip install python-crfsuite"
   ]
  },
  {
   "cell_type": "code",
   "execution_count": 2,
   "metadata": {},
   "outputs": [
    {
     "name": "stdout",
     "output_type": "stream",
     "text": [
      "[(-2, 0), (-2, 1), (-2, 2), (-1, 1), (-1, 2), (0, 2)]\n"
     ]
    }
   ],
   "source": [
    "def generate_templates(begin=-2, end=2, min_range_length=3, max_range_length=5):\n",
    "    templates = []\n",
    "    for b in range(begin, end):\n",
    "        for e in range(b, end+1):\n",
    "            length = (e - b + 1)\n",
    "            if length < min_range_length or length > max_range_length: \n",
    "                continue\n",
    "            if b * e > 0:\n",
    "                continue\n",
    "            templates.append((b, e))\n",
    "    return templates\n",
    "\n",
    "templates = generate_templates()\n",
    "\n",
    "print(templates)\n",
    "# [(-2, 0), (-2, 1), (-2, 2), (-1, 1), (-1, 2), (0, 2)]"
   ]
  },
  {
   "cell_type": "code",
   "execution_count": 3,
   "metadata": {},
   "outputs": [
    {
     "name": "stdout",
     "output_type": "stream",
     "text": [
      "[(-2, 0), (-1, 1), (0, 2)]\n"
     ]
    }
   ],
   "source": [
    "templates = generate_templates(begin=-2, end=2, min_range_length=3, max_range_length=3)\n",
    "\n",
    "print(templates)\n",
    "# [(-2, 0), (-1, 1), (0, 2)]"
   ]
  },
  {
   "cell_type": "code",
   "execution_count": 4,
   "metadata": {},
   "outputs": [],
   "source": [
    "class CharacterFeatureTransformer:\n",
    "    def __init__(self, templates):\n",
    "        self.templates = templates\n",
    "    def __call__(self, chars, tags=None):\n",
    "        x =[]\n",
    "        for i in range(len(chars)):\n",
    "            xi = []\n",
    "            e_max = len(chars)\n",
    "            for t in self.templates:\n",
    "                b = i + t[0]\n",
    "                e = i + t[1] + 1\n",
    "                if b < 0 or e > e_max:\n",
    "                    continue\n",
    "                xi.append(('X[%d,%d]' % (t[0], t[1]), chars[b:e]))\n",
    "            x.append(xi)\n",
    "        return x"
   ]
  },
  {
   "cell_type": "code",
   "execution_count": 5,
   "metadata": {},
   "outputs": [
    {
     "data": {
      "text/plain": [
       "('예문입니다', ['0', '1', '0', '0', '1'])"
      ]
     },
     "execution_count": 5,
     "metadata": {},
     "output_type": "execute_result"
    }
   ],
   "source": [
    "def sent_to_chartags(sent, nonspace='0', space='1'):\n",
    "    chars = sent.replace(' ','')\n",
    "    if not chars:\n",
    "        return '', []\n",
    "    tags = [nonspace]*(len(chars) - 1) + [space]\n",
    "    idx = 0\n",
    "    for c in sent:\n",
    "        if c == ' ':\n",
    "            tags[idx-1] = space\n",
    "        else:\n",
    "            idx += 1\n",
    "    return chars, tags\n",
    "\n",
    "sent_to_chartags('예문 입니다')\n",
    "# ('예문입니다', ['0', '1', '0', '0', '1'])"
   ]
  },
  {
   "cell_type": "code",
   "execution_count": 6,
   "metadata": {},
   "outputs": [
    {
     "data": {
      "text/plain": [
       "('', [])"
      ]
     },
     "execution_count": 6,
     "metadata": {},
     "output_type": "execute_result"
    }
   ],
   "source": [
    "sent_to_chartags('')\n",
    "# ('', [])"
   ]
  },
  {
   "cell_type": "code",
   "execution_count": 7,
   "metadata": {},
   "outputs": [
    {
     "ename": "NameError",
     "evalue": "name 'transformer' is not defined",
     "output_type": "error",
     "traceback": [
      "\u001b[1;31m---------------------------------------------------------------------------\u001b[0m",
      "\u001b[1;31mNameError\u001b[0m                                 Traceback (most recent call last)",
      "\u001b[1;32m<ipython-input-7-247523e0ade8>\u001b[0m in \u001b[0;36m<module>\u001b[1;34m()\u001b[0m\n\u001b[0;32m      5\u001b[0m     \u001b[1;32mreturn\u001b[0m \u001b[0mx\u001b[0m\u001b[1;33m,\u001b[0m \u001b[0my\u001b[0m\u001b[1;33m\u001b[0m\u001b[0m\n\u001b[0;32m      6\u001b[0m \u001b[1;33m\u001b[0m\u001b[0m\n\u001b[1;32m----> 7\u001b[1;33m \u001b[0mx\u001b[0m\u001b[1;33m,\u001b[0m\u001b[0my\u001b[0m \u001b[1;33m=\u001b[0m \u001b[0msent_to_xy\u001b[0m\u001b[1;33m(\u001b[0m\u001b[1;34m'예문 입니다'\u001b[0m\u001b[1;33m,\u001b[0m \u001b[0mtransformer\u001b[0m\u001b[1;33m)\u001b[0m\u001b[1;33m\u001b[0m\u001b[0m\n\u001b[0m",
      "\u001b[1;31mNameError\u001b[0m: name 'transformer' is not defined"
     ]
    }
   ],
   "source": [
    "def sent_to_xy(sent, feature_transformer):\n",
    "    chars, tags = sent_to_chartags(sent)\n",
    "    x = [['%s=%s' % (xij[0], xij[1]) for xij in xi] for xi in feature_transformer(chars, tags)]\n",
    "    y = [t for t in tags]\n",
    "    return x, y\n",
    "\n",
    "x,y = sent_to_xy('예문 입니다', transformer)"
   ]
  },
  {
   "cell_type": "code",
   "execution_count": 8,
   "metadata": {},
   "outputs": [
    {
     "ename": "NameError",
     "evalue": "name 'x' is not defined",
     "output_type": "error",
     "traceback": [
      "\u001b[1;31m---------------------------------------------------------------------------\u001b[0m",
      "\u001b[1;31mNameError\u001b[0m                                 Traceback (most recent call last)",
      "\u001b[1;32m<ipython-input-8-2a3d90b1b725>\u001b[0m in \u001b[0;36m<module>\u001b[1;34m()\u001b[0m\n\u001b[0;32m      3\u001b[0m \u001b[0mtrainer\u001b[0m \u001b[1;33m=\u001b[0m \u001b[0mpycrfsuite\u001b[0m\u001b[1;33m.\u001b[0m\u001b[0mTrainer\u001b[0m\u001b[1;33m(\u001b[0m\u001b[0mverbose\u001b[0m\u001b[1;33m=\u001b[0m\u001b[1;32mFalse\u001b[0m\u001b[1;33m)\u001b[0m\u001b[1;33m\u001b[0m\u001b[0m\n\u001b[0;32m      4\u001b[0m \u001b[1;31m# possible only if len(x) == len(y)\u001b[0m\u001b[1;33m\u001b[0m\u001b[1;33m\u001b[0m\u001b[0m\n\u001b[1;32m----> 5\u001b[1;33m \u001b[0mtrainer\u001b[0m\u001b[1;33m.\u001b[0m\u001b[0mappend\u001b[0m\u001b[1;33m(\u001b[0m\u001b[0mx\u001b[0m\u001b[1;33m,\u001b[0m \u001b[0my\u001b[0m\u001b[1;33m)\u001b[0m\u001b[1;33m\u001b[0m\u001b[0m\n\u001b[0m",
      "\u001b[1;31mNameError\u001b[0m: name 'x' is not defined"
     ]
    }
   ],
   "source": [
    "import pycrfsuite\n",
    "\n",
    "trainer = pycrfsuite.Trainer(verbose=False)\n",
    "# possible only if len(x) == len(y)\n",
    "trainer.append(x, y) "
   ]
  },
  {
   "cell_type": "code",
   "execution_count": 9,
   "metadata": {},
   "outputs": [
    {
     "ename": "NameError",
     "evalue": "name 'docs' is not defined",
     "output_type": "error",
     "traceback": [
      "\u001b[1;31m---------------------------------------------------------------------------\u001b[0m",
      "\u001b[1;31mNameError\u001b[0m                                 Traceback (most recent call last)",
      "\u001b[1;32m<ipython-input-9-9fbef6d27607>\u001b[0m in \u001b[0;36m<module>\u001b[1;34m()\u001b[0m\n\u001b[0;32m      9\u001b[0m \u001b[1;33m\u001b[0m\u001b[0m\n\u001b[0;32m     10\u001b[0m \u001b[0mtrainer\u001b[0m \u001b[1;33m=\u001b[0m \u001b[0mpycrfsuite\u001b[0m\u001b[1;33m.\u001b[0m\u001b[0mTrainer\u001b[0m\u001b[1;33m(\u001b[0m\u001b[0mverbose\u001b[0m\u001b[1;33m=\u001b[0m\u001b[1;32mFalse\u001b[0m\u001b[1;33m)\u001b[0m\u001b[1;33m\u001b[0m\u001b[0m\n\u001b[1;32m---> 11\u001b[1;33m \u001b[1;32mfor\u001b[0m \u001b[0mdoc\u001b[0m \u001b[1;32min\u001b[0m \u001b[0mdocs\u001b[0m\u001b[1;33m:\u001b[0m\u001b[1;33m\u001b[0m\u001b[0m\n\u001b[0m\u001b[0;32m     12\u001b[0m     \u001b[0mx\u001b[0m\u001b[1;33m,\u001b[0m \u001b[0my\u001b[0m \u001b[1;33m=\u001b[0m \u001b[0msent_to_xy\u001b[0m\u001b[1;33m(\u001b[0m\u001b[0mdoc\u001b[0m\u001b[1;33m,\u001b[0m \u001b[0mtransformer\u001b[0m\u001b[1;33m)\u001b[0m\u001b[1;33m\u001b[0m\u001b[0m\n\u001b[0;32m     13\u001b[0m     \u001b[0mtrainer\u001b[0m\u001b[1;33m.\u001b[0m\u001b[0mappend\u001b[0m\u001b[1;33m(\u001b[0m\u001b[0mx\u001b[0m\u001b[1;33m,\u001b[0m \u001b[0my\u001b[0m\u001b[1;33m)\u001b[0m\u001b[1;33m\u001b[0m\u001b[0m\n",
      "\u001b[1;31mNameError\u001b[0m: name 'docs' is not defined"
     ]
    }
   ],
   "source": [
    "params = {\n",
    "    'max_iterations':50, # default 1000\n",
    "    'c1': 0, # L1 regularization, default 1\n",
    "    'c2': 1, # L2 regularization, default 2\n",
    "    'feature.minfreq': 3 # minimum frequency of feature. default 0 (without pruning)\n",
    "}\n",
    "\n",
    "model_fname = 'crfsuite_spacing.model'\n",
    "\n",
    "trainer = pycrfsuite.Trainer(verbose=False)\n",
    "for doc in docs:\n",
    "    x, y = sent_to_xy(doc, transformer)\n",
    "    trainer.append(x, y)\n",
    "trainer.set_params(params)\n",
    "trainer.train(model_fname)"
   ]
  },
  {
   "cell_type": "code",
   "execution_count": 10,
   "metadata": {},
   "outputs": [
    {
     "name": "stdout",
     "output_type": "stream",
     "text": [
      "Collecting pycrfsuite_spacing\n",
      "  Downloading pycrfsuite_spacing-1.0.2-py3-none-any.whl (5.0 kB)\n",
      "Requirement already satisfied: python-crfsuite>=0.9.2 in c:\\users\\h2009134\\appdata\\local\\continuum\\anaconda3\\lib\\site-packages (from pycrfsuite_spacing) (0.9.7)\n",
      "Installing collected packages: pycrfsuite-spacing\n",
      "Successfully installed pycrfsuite-spacing-1.0.2\n"
     ]
    }
   ],
   "source": [
    "!pip install pycrfsuite_spacing"
   ]
  },
  {
   "cell_type": "code",
   "execution_count": 11,
   "metadata": {},
   "outputs": [],
   "source": [
    "from pycrfsuite_spacing import TemplateGenerator\n",
    "from pycrfsuite_spacing import CharacterFeatureTransformer\n",
    "from pprint import pprint\n",
    "\n",
    "templates = TemplateGenerator(\n",
    "    begin=-2, \n",
    "    end=2,\n",
    "    min_range_length=3,\n",
    "    max_range_length=3)\n",
    "\n",
    "to_feature = CharacterFeatureTransformer(templates)"
   ]
  },
  {
   "cell_type": "code",
   "execution_count": 12,
   "metadata": {},
   "outputs": [
    {
     "name": "stdout",
     "output_type": "stream",
     "text": [
      "[['X[0,2]=이것도'],\n",
      " ['X[-1,1]=이것도', 'X[0,2]=것도너'],\n",
      " ['X[-2,0]=이것도', 'X[-1,1]=것도너', 'X[0,2]=도너프'],\n",
      " ['X[-2,0]=것도너', 'X[-1,1]=도너프', 'X[0,2]=너프해'],\n",
      " ['X[-2,0]=도너프', 'X[-1,1]=너프해', 'X[0,2]=프해보'],\n",
      " ['X[-2,0]=너프해', 'X[-1,1]=프해보', 'X[0,2]=해보시'],\n",
      " ['X[-2,0]=프해보', 'X[-1,1]=해보시', 'X[0,2]=보시지'],\n",
      " ['X[-2,0]=해보시', 'X[-1,1]=보시지'],\n",
      " ['X[-2,0]=보시지']]\n",
      "['0', '0', '1', '0', '0', '1', '0', '0', '1']\n"
     ]
    }
   ],
   "source": [
    "from pycrfsuite_spacing import sent_to_xy\n",
    "\n",
    "x, y = sent_to_xy('이것도 너프해 보시지', to_feature)\n",
    "\n",
    "pprint(x)\n",
    "# [['X[0,2]=이것도'],\n",
    "#  ['X[-1,1]=이것도', 'X[0,2]=것도너'],\n",
    "#  ['X[-2,0]=이것도', 'X[-1,1]=것도너', 'X[0,2]=도너프'],\n",
    "#  ['X[-2,0]=것도너', 'X[-1,1]=도너프', 'X[0,2]=너프해'],\n",
    "#  ['X[-2,0]=도너프', 'X[-1,1]=너프해', 'X[0,2]=프해보'],\n",
    "#  ['X[-2,0]=너프해', 'X[-1,1]=프해보', 'X[0,2]=해보시'],\n",
    "#  ['X[-2,0]=프해보', 'X[-1,1]=해보시', 'X[0,2]=보시지'],\n",
    "#  ['X[-2,0]=해보시', 'X[-1,1]=보시지'],\n",
    "#  ['X[-2,0]=보시지']]\n",
    "\n",
    "print(y)\n",
    "# ['0', '0', '1', '0', '0', '1', '0', '0', '1']"
   ]
  },
  {
   "cell_type": "code",
   "execution_count": 14,
   "metadata": {},
   "outputs": [],
   "source": [
    "from pycrfsuite_spacing import PyCRFSuiteSpacing\n",
    "\n",
    "correct = PyCRFSuiteSpacing(\n",
    "    to_feature,\n",
    "    feature_minfreq=5, \n",
    "    max_iterations=100,\n",
    "    l1_cost=1.0,\n",
    "    l2_cost=1.0)\n",
    "\n",
    "model_path = 'package_test.crfsuite'\n",
    "correct.train(\"https://lovit.github.io/assets/resources/134963_norm.txt\", model_path)"
   ]
  },
  {
   "cell_type": "code",
   "execution_count": 15,
   "metadata": {},
   "outputs": [
    {
     "data": {
      "text/plain": [
       "'이 건 진 짜 좋 은 영 화 라 라 랜 드 진 짜 좋 은 영 화'"
      ]
     },
     "execution_count": 15,
     "metadata": {},
     "output_type": "execute_result"
    }
   ],
   "source": [
    "correct('이건진짜좋은영화라라랜드진짜좋은영화')"
   ]
  },
  {
   "cell_type": "code",
   "execution_count": 16,
   "metadata": {},
   "outputs": [
    {
     "data": {
      "text/plain": [
       "'이 건 진 짜 좋 은 영 화 라 라 랜 드 진 짜 좋 은 영 화'"
      ]
     },
     "execution_count": 16,
     "metadata": {},
     "output_type": "execute_result"
    }
   ],
   "source": [
    "correct.correct('이건진짜좋은영화라라랜드진짜좋은영화')"
   ]
  },
  {
   "cell_type": "code",
   "execution_count": 17,
   "metadata": {},
   "outputs": [],
   "source": [
    "model = PyCRFSuiteSpacing(to_feature)\n",
    "model.load_tagger(model_path)"
   ]
  },
  {
   "cell_type": "code",
   "execution_count": 18,
   "metadata": {},
   "outputs": [
    {
     "data": {
      "text/plain": [
       "'이 건 진 짜 좋 은 영 화 라 라 랜 드 진 짜 좋 은 영 화'"
      ]
     },
     "execution_count": 18,
     "metadata": {},
     "output_type": "execute_result"
    }
   ],
   "source": [
    "model('이건진짜좋은영화라라랜드진짜좋은영화')"
   ]
  },
  {
   "cell_type": "code",
   "execution_count": null,
   "metadata": {},
   "outputs": [],
   "source": []
  }
 ],
 "metadata": {
  "kernelspec": {
   "display_name": "Python 3",
   "language": "python",
   "name": "python3"
  },
  "language_info": {
   "codemirror_mode": {
    "name": "ipython",
    "version": 3
   },
   "file_extension": ".py",
   "mimetype": "text/x-python",
   "name": "python",
   "nbconvert_exporter": "python",
   "pygments_lexer": "ipython3",
   "version": "3.6.12"
  }
 },
 "nbformat": 4,
 "nbformat_minor": 4
}
