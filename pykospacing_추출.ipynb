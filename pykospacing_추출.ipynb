{
 "cells": [
  {
   "cell_type": "code",
   "execution_count": 1,
   "metadata": {},
   "outputs": [
    {
     "name": "stdout",
     "output_type": "stream",
     "text": [
      "cpu_counts: 8\n"
     ]
    }
   ],
   "source": [
    "import pandas as pd\n",
    "from pykospacing import spacing\n",
    "from multiprocessing import Pool\n",
    "import multiprocessing\n",
    "import numpy as np\n",
    "import time\n",
    "\n",
    "print('cpu_counts: %d' % multiprocessing.cpu_count())\n",
    "\n",
    "def spacing_processing(df):\n",
    "    df['content_spacing'] = df['content'].apply(spacing)\n",
    "    return df\n",
    "\n",
    "def parallelize_dataframe(df,func,n_cores=4):\n",
    "    df_split = np.array_split(df,n_cores)\n",
    "    pool = Pool(n_cores)\n",
    "    df = pd.concat(pool.map(func, df_split))\n",
    "\n",
    "    pool.close()\n",
    "    pool.join()\n",
    "\n",
    "    return df\n",
    "\n",
    "\n"
   ]
  },
  {
   "cell_type": "code",
   "execution_count": null,
   "metadata": {},
   "outputs": [],
   "source": [
    "\n",
    "s_time = time.time()\n",
    "\n",
    "df = pd.read_csv('data/2474648_org_content_20201203.csv', encoding='utf-8')\n",
    "df = df[:100]\n",
    "\n",
    "df_result = parallelize_dataframe(df, spacing_processing)\n",
    "\n",
    "df_result.to_csv('result/kospacing_20201203.csv', encoding='utf-8', index=False)\n",
    "\n",
    "e_time = time.time()\n",
    "\n",
    "print('elasped time : ', e_time-s_time)\n",
    "#elasped time :  4110.70832324028"
   ]
  },
  {
   "cell_type": "code",
   "execution_count": null,
   "metadata": {},
   "outputs": [],
   "source": []
  }
 ],
 "metadata": {
  "kernelspec": {
   "display_name": "Python 3",
   "language": "python",
   "name": "python3"
  },
  "language_info": {
   "codemirror_mode": {
    "name": "ipython",
    "version": 3
   },
   "file_extension": ".py",
   "mimetype": "text/x-python",
   "name": "python",
   "nbconvert_exporter": "python",
   "pygments_lexer": "ipython3",
   "version": "3.8.3"
  }
 },
 "nbformat": 4,
 "nbformat_minor": 4
}
