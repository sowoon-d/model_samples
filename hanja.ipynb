{
 "cells": [
  {
   "cell_type": "code",
   "execution_count": 1,
   "metadata": {},
   "outputs": [
    {
     "name": "stdout",
     "output_type": "stream",
     "text": [
      "Requirement already satisfied: hanja==0.11.0 in c:\\users\\h2009134\\appdata\\local\\continuum\\anaconda3\\lib\\site-packages (0.11.0)\n"
     ]
    }
   ],
   "source": [
    "!pip install hanja==0.11.0"
   ]
  },
  {
   "cell_type": "code",
   "execution_count": 2,
   "metadata": {},
   "outputs": [],
   "source": [
    "import hanja"
   ]
  },
  {
   "cell_type": "code",
   "execution_count": 3,
   "metadata": {},
   "outputs": [
    {
     "data": {
      "text/plain": [
       "'대한민국은 민주공화국이다.'"
      ]
     },
     "execution_count": 3,
     "metadata": {},
     "output_type": "execute_result"
    }
   ],
   "source": [
    "hanja.translate('大韓民國은 民主共和國이다.', 'substitution')"
   ]
  },
  {
   "cell_type": "code",
   "execution_count": 4,
   "metadata": {},
   "outputs": [
    {
     "data": {
      "text/plain": [
       "'SG2 EV CTR FLR 대차 적용 검토 건'"
      ]
     },
     "execution_count": 4,
     "metadata": {},
     "output_type": "execute_result"
    }
   ],
   "source": [
    "hanja.translate('SG2 EV CTR FLR 대차 적용 검토 件', 'substitution')"
   ]
  },
  {
   "cell_type": "code",
   "execution_count": 5,
   "metadata": {},
   "outputs": [
    {
     "data": {
      "text/plain": [
       "'프런트/리어 디플렉터 가드 휠가드 서브 구조 적용 요'"
      ]
     },
     "execution_count": 5,
     "metadata": {},
     "output_type": "execute_result"
    }
   ],
   "source": [
    "hanja.translate('프런트/리어 디플렉터 가드 휠가드 서브 구조 적용 要', 'substitution')"
   ]
  },
  {
   "cell_type": "code",
   "execution_count": 6,
   "metadata": {},
   "outputs": [],
   "source": [
    "a = '테일게이트 아우터~인너 판넬(와이어링 패싱 구간) 공간 최대치 확보 요망\\n\\n※ 증대 가능 최대치 공간 확보하여 작업성 및 생산성 先개선 필요'"
   ]
  },
  {
   "cell_type": "code",
   "execution_count": 7,
   "metadata": {},
   "outputs": [
    {
     "data": {
      "text/plain": [
       "'테일게이트 아우터~인너 판넬(와이어링 패싱 구간) 공간 최대치 확보 요망\\n\\n※ 증대 가능 최대치 공간 확보하여 작업성 및 생산성 선개선 필요'"
      ]
     },
     "execution_count": 7,
     "metadata": {},
     "output_type": "execute_result"
    }
   ],
   "source": [
    "hanja.translate(a, 'substitution')"
   ]
  },
  {
   "cell_type": "code",
   "execution_count": 8,
   "metadata": {},
   "outputs": [
    {
     "data": {
      "text/plain": [
       "'인슐레이터 마운팅 위치 이동 (1안 또는 2안)'"
      ]
     },
     "execution_count": 8,
     "metadata": {},
     "output_type": "execute_result"
    }
   ],
   "source": [
    "a = '인슐레이터 마운팅 위치 이동 (1案 또는 2案)'\n",
    "hanja.translate(a, 'substitution')"
   ]
  },
  {
   "cell_type": "code",
   "execution_count": 9,
   "metadata": {},
   "outputs": [
    {
     "data": {
      "text/plain": [
       "'▶ 조립 기준 표기 “▼” 추가 요 (DE차종 구조 참조)'"
      ]
     },
     "execution_count": 9,
     "metadata": {},
     "output_type": "execute_result"
    }
   ],
   "source": [
    "a= '▶ 조립 기준 표기 “▼” 추가 要 (DE차종 구조 참조)'\n",
    "hanja.translate(a, 'substitution')"
   ]
  },
  {
   "cell_type": "code",
   "execution_count": 10,
   "metadata": {},
   "outputs": [
    {
     "data": {
      "text/plain": [
       "'[문제점] 배터리 쿨링호스 서브프레임 상단부 클립 삽입 및 퀵커넥터 체결 어려움\\n\\n[원인] 샤시 모듈 데킹 이후 해당 작업 가능한 공정 없음( 샤시 모듈 데킹 → 배터리 데킹 → 샤시2 대차 공정(작업고 고) → 화이널1 FEM 장착(작업고 저) )'"
      ]
     },
     "execution_count": 10,
     "metadata": {},
     "output_type": "execute_result"
    }
   ],
   "source": [
    "a = '[문제점] 배터리 쿨링호스 서브프레임 상단부 클립 삽입 및 퀵커넥터 체결 어려움\\n\\n[원인] 샤시 모듈 데킹 이후 해당 작업 가능한 공정 없음( 샤시 모듈 데킹 → 배터리 데킹 → 샤시2 대차 공정(작업고 高) → 화이널1 FEM 장착(작업고 低) )'\n",
    "hanja.translate(a, 'substitution')"
   ]
  },
  {
   "cell_type": "code",
   "execution_count": 11,
   "metadata": {},
   "outputs": [],
   "source": [
    "import pandas as pd"
   ]
  },
  {
   "cell_type": "code",
   "execution_count": 12,
   "metadata": {},
   "outputs": [],
   "source": [
    "df = pd.DataFrame()"
   ]
  },
  {
   "cell_type": "code",
   "execution_count": 13,
   "metadata": {},
   "outputs": [],
   "source": [
    "df['content'] = ['▶ 조립 기준 표기 “▼” 추가 要 (DE차종 구조 참조)','인슐레이터 마운팅 위치 이동 (1案 또는 2案)']"
   ]
  },
  {
   "cell_type": "code",
   "execution_count": 15,
   "metadata": {},
   "outputs": [],
   "source": [
    "# df['content_tran'] = df['content'].apply(hanja.translate(mode = 'substitution'))"
   ]
  },
  {
   "cell_type": "code",
   "execution_count": null,
   "metadata": {},
   "outputs": [],
   "source": [
    "# df['content_tran'] = hanja.translate(df['content'], 'substitution')"
   ]
  },
  {
   "cell_type": "code",
   "execution_count": null,
   "metadata": {},
   "outputs": [],
   "source": [
    "# df.head()"
   ]
  },
  {
   "cell_type": "code",
   "execution_count": null,
   "metadata": {},
   "outputs": [],
   "source": [
    "df[df.apply(lambda x : len(x['species'].split(\" \"))>=2,axis=1)]"
   ]
  },
  {
   "cell_type": "code",
   "execution_count": null,
   "metadata": {},
   "outputs": [],
   "source": [
    "df['content_tran'] = df['content'].apply(lambda x : hanja.translate(x, 'substitution'))"
   ]
  },
  {
   "cell_type": "code",
   "execution_count": null,
   "metadata": {},
   "outputs": [],
   "source": [
    "df.head()"
   ]
  },
  {
   "cell_type": "code",
   "execution_count": 16,
   "metadata": {},
   "outputs": [
    {
     "data": {
      "text/plain": [
       "'[문제점] 좌의하부？속？자고정방향유？향개？향 시트 하단 와이어링 클립 고정 방향을 L방향을 T방향으로 변경'"
      ]
     },
     "execution_count": 16,
     "metadata": {},
     "output_type": "execute_result"
    }
   ],
   "source": [
    "sent = '[문제점] 座椅下部？束？子固定方向由？向改？向 시트 하단 와이어링 클립 고정 방향을 L방향을 T방향으로 변경'\n",
    "hanja.translate(sent, 'substitution')"
   ]
  },
  {
   "cell_type": "code",
   "execution_count": null,
   "metadata": {},
   "outputs": [],
   "source": []
  }
 ],
 "metadata": {
  "kernelspec": {
   "display_name": "Python 3",
   "language": "python",
   "name": "python3"
  },
  "language_info": {
   "codemirror_mode": {
    "name": "ipython",
    "version": 3
   },
   "file_extension": ".py",
   "mimetype": "text/x-python",
   "name": "python",
   "nbconvert_exporter": "python",
   "pygments_lexer": "ipython3",
   "version": "3.8.3"
  }
 },
 "nbformat": 4,
 "nbformat_minor": 4
}
