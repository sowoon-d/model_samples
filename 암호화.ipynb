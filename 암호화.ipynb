{
 "cells": [
  {
   "cell_type": "markdown",
   "metadata": {},
   "source": [
    "## 암호화 테스트 1"
   ]
  },
  {
   "cell_type": "code",
   "execution_count": 1,
   "metadata": {},
   "outputs": [
    {
     "name": "stdout",
     "output_type": "stream",
     "text": [
      "Requirement already satisfied: pycrypto in c:\\users\\h2009134\\appdata\\local\\continuum\\anaconda3\\lib\\site-packages (2.6.1)\n"
     ]
    }
   ],
   "source": [
    "!pip install pycrypto"
   ]
  },
  {
   "cell_type": "code",
   "execution_count": 2,
   "metadata": {},
   "outputs": [
    {
     "ename": "TypeError",
     "evalue": "ord() expected string of length 1, but int found",
     "output_type": "error",
     "traceback": [
      "\u001b[1;31m---------------------------------------------------------------------------\u001b[0m",
      "\u001b[1;31mTypeError\u001b[0m                                 Traceback (most recent call last)",
      "\u001b[1;32m<ipython-input-2-f741dd703cde>\u001b[0m in \u001b[0;36m<module>\u001b[1;34m\u001b[0m\n\u001b[0;32m     31\u001b[0m     \u001b[0mcipher\u001b[0m \u001b[1;33m=\u001b[0m \u001b[0mAESCipher\u001b[0m\u001b[1;33m(\u001b[0m\u001b[0mkey\u001b[0m\u001b[1;33m)\u001b[0m\u001b[1;33m\u001b[0m\u001b[1;33m\u001b[0m\u001b[0m\n\u001b[0;32m     32\u001b[0m     \u001b[0mencrypted\u001b[0m \u001b[1;33m=\u001b[0m \u001b[0mcipher\u001b[0m\u001b[1;33m.\u001b[0m\u001b[0mencrypt\u001b[0m\u001b[1;33m(\u001b[0m\u001b[0mjson_str\u001b[0m\u001b[1;33m)\u001b[0m\u001b[1;33m\u001b[0m\u001b[1;33m\u001b[0m\u001b[0m\n\u001b[1;32m---> 33\u001b[1;33m     \u001b[0mdecrypted\u001b[0m \u001b[1;33m=\u001b[0m \u001b[0mcipher\u001b[0m\u001b[1;33m.\u001b[0m\u001b[0mdecrypt\u001b[0m\u001b[1;33m(\u001b[0m\u001b[0mencrypted\u001b[0m\u001b[1;33m)\u001b[0m\u001b[1;33m\u001b[0m\u001b[1;33m\u001b[0m\u001b[0m\n\u001b[0m\u001b[0;32m     34\u001b[0m     \u001b[0mprint\u001b[0m\u001b[1;33m(\u001b[0m\u001b[1;34m'Key:: '\u001b[0m\u001b[1;33m+\u001b[0m\u001b[0mkey\u001b[0m\u001b[1;33m)\u001b[0m\u001b[1;33m\u001b[0m\u001b[1;33m\u001b[0m\u001b[0m\n\u001b[0;32m     35\u001b[0m     \u001b[0mprint\u001b[0m\u001b[1;33m(\u001b[0m\u001b[1;34m'Enc:: '\u001b[0m\u001b[1;33m+\u001b[0m\u001b[0mencrypted\u001b[0m\u001b[1;33m)\u001b[0m\u001b[1;33m\u001b[0m\u001b[1;33m\u001b[0m\u001b[0m\n",
      "\u001b[1;32m<ipython-input-2-f741dd703cde>\u001b[0m in \u001b[0;36mdecrypt\u001b[1;34m(self, enc)\u001b[0m\n\u001b[0;32m     21\u001b[0m         \u001b[0miv\u001b[0m \u001b[1;33m=\u001b[0m \u001b[0menc\u001b[0m\u001b[1;33m[\u001b[0m\u001b[1;33m:\u001b[0m\u001b[1;36m16\u001b[0m\u001b[1;33m]\u001b[0m\u001b[1;33m\u001b[0m\u001b[1;33m\u001b[0m\u001b[0m\n\u001b[0;32m     22\u001b[0m         \u001b[0mcipher\u001b[0m \u001b[1;33m=\u001b[0m \u001b[0mAES\u001b[0m\u001b[1;33m.\u001b[0m\u001b[0mnew\u001b[0m\u001b[1;33m(\u001b[0m\u001b[0mself\u001b[0m\u001b[1;33m.\u001b[0m\u001b[0mkey\u001b[0m\u001b[1;33m,\u001b[0m \u001b[0mAES\u001b[0m\u001b[1;33m.\u001b[0m\u001b[0mMODE_CBC\u001b[0m\u001b[1;33m,\u001b[0m \u001b[0miv\u001b[0m\u001b[1;33m)\u001b[0m\u001b[1;33m\u001b[0m\u001b[1;33m\u001b[0m\u001b[0m\n\u001b[1;32m---> 23\u001b[1;33m         \u001b[1;32mreturn\u001b[0m \u001b[0munpad\u001b[0m\u001b[1;33m(\u001b[0m\u001b[0mcipher\u001b[0m\u001b[1;33m.\u001b[0m\u001b[0mdecrypt\u001b[0m\u001b[1;33m(\u001b[0m\u001b[0menc\u001b[0m\u001b[1;33m[\u001b[0m\u001b[1;36m16\u001b[0m\u001b[1;33m:\u001b[0m\u001b[1;33m]\u001b[0m\u001b[1;33m)\u001b[0m\u001b[1;33m)\u001b[0m\u001b[1;33m\u001b[0m\u001b[1;33m\u001b[0m\u001b[0m\n\u001b[0m\u001b[0;32m     24\u001b[0m \u001b[1;33m\u001b[0m\u001b[0m\n\u001b[0;32m     25\u001b[0m \u001b[1;33m\u001b[0m\u001b[0m\n",
      "\u001b[1;32m<ipython-input-2-f741dd703cde>\u001b[0m in \u001b[0;36m<lambda>\u001b[1;34m(s)\u001b[0m\n\u001b[0;32m      5\u001b[0m \u001b[0mBS\u001b[0m \u001b[1;33m=\u001b[0m \u001b[1;36m16\u001b[0m\u001b[1;33m\u001b[0m\u001b[1;33m\u001b[0m\u001b[0m\n\u001b[0;32m      6\u001b[0m \u001b[0mpad\u001b[0m \u001b[1;33m=\u001b[0m \u001b[1;32mlambda\u001b[0m \u001b[0ms\u001b[0m\u001b[1;33m:\u001b[0m \u001b[0ms\u001b[0m \u001b[1;33m+\u001b[0m \u001b[1;33m(\u001b[0m\u001b[0mBS\u001b[0m \u001b[1;33m-\u001b[0m \u001b[0mlen\u001b[0m\u001b[1;33m(\u001b[0m\u001b[0ms\u001b[0m\u001b[1;33m)\u001b[0m \u001b[1;33m%\u001b[0m \u001b[0mBS\u001b[0m\u001b[1;33m)\u001b[0m \u001b[1;33m*\u001b[0m \u001b[0mchr\u001b[0m\u001b[1;33m(\u001b[0m\u001b[0mBS\u001b[0m \u001b[1;33m-\u001b[0m \u001b[0mlen\u001b[0m\u001b[1;33m(\u001b[0m\u001b[0ms\u001b[0m\u001b[1;33m)\u001b[0m \u001b[1;33m%\u001b[0m \u001b[0mBS\u001b[0m\u001b[1;33m)\u001b[0m\u001b[1;33m\u001b[0m\u001b[1;33m\u001b[0m\u001b[0m\n\u001b[1;32m----> 7\u001b[1;33m \u001b[0munpad\u001b[0m \u001b[1;33m=\u001b[0m \u001b[1;32mlambda\u001b[0m \u001b[0ms\u001b[0m\u001b[1;33m:\u001b[0m \u001b[0ms\u001b[0m\u001b[1;33m[\u001b[0m\u001b[1;36m0\u001b[0m\u001b[1;33m:\u001b[0m\u001b[1;33m-\u001b[0m\u001b[0mord\u001b[0m\u001b[1;33m(\u001b[0m\u001b[0ms\u001b[0m\u001b[1;33m[\u001b[0m\u001b[1;33m-\u001b[0m\u001b[1;36m1\u001b[0m\u001b[1;33m]\u001b[0m\u001b[1;33m)\u001b[0m\u001b[1;33m]\u001b[0m\u001b[1;33m\u001b[0m\u001b[1;33m\u001b[0m\u001b[0m\n\u001b[0m\u001b[0;32m      8\u001b[0m \u001b[1;33m\u001b[0m\u001b[0m\n\u001b[0;32m      9\u001b[0m \u001b[1;32mclass\u001b[0m \u001b[0mAESCipher\u001b[0m\u001b[1;33m:\u001b[0m\u001b[1;33m\u001b[0m\u001b[1;33m\u001b[0m\u001b[0m\n",
      "\u001b[1;31mTypeError\u001b[0m: ord() expected string of length 1, but int found"
     ]
    }
   ],
   "source": [
    "import base64 \n",
    "from Crypto import Random \n",
    "from Crypto.Cipher import AES \n",
    "\n",
    "BS = 16 \n",
    "pad = lambda s: s + (BS - len(s) % BS) * chr(BS - len(s) % BS) \n",
    "unpad = lambda s: s[0:-ord(s[-1])] \n",
    "\n",
    "class AESCipher: \n",
    "    def __init__(self, key): \n",
    "        self.key = key \n",
    "    \n",
    "    def encrypt(self, raw): \n",
    "        raw = pad(raw) \n",
    "        iv = Random.new().read(AES.block_size) \n",
    "        cipher = AES.new(self.key, AES.MODE_CBC, iv) \n",
    "        return base64.b64encode(iv + cipher.encrypt(raw)) \n",
    "    \n",
    "    def decrypt(self, enc): \n",
    "        enc = base64.b64decode(enc) \n",
    "        iv = enc[:16] \n",
    "        cipher = AES.new(self.key, AES.MODE_CBC, iv) \n",
    "        return unpad(cipher.decrypt(enc[16:])) \n",
    "\n",
    "    \n",
    "if __name__ == '__main__': \n",
    "    key = '!01234!5678998765!43210!' \n",
    "    json_str = 'Test' \n",
    "    cipher = AESCipher(key) \n",
    "    encrypted = cipher.encrypt(json_str) \n",
    "    decrypted = cipher.decrypt(encrypted) \n",
    "    print('Key:: '+key)\n",
    "    print('Enc:: '+encrypted)\n",
    "    print('Dec:: '+decrypted)\n"
   ]
  },
  {
   "cell_type": "markdown",
   "metadata": {},
   "source": [
    "## 암호화 테스트 2"
   ]
  },
  {
   "cell_type": "code",
   "execution_count": 3,
   "metadata": {},
   "outputs": [
    {
     "name": "stdout",
     "output_type": "stream",
     "text": [
      "Collecting pycryptodomex\n",
      "  Downloading pycryptodomex-3.9.9-cp36-cp36m-win_amd64.whl (14.1 MB)\n",
      "Installing collected packages: pycryptodomex\n",
      "Successfully installed pycryptodomex-3.9.9\n"
     ]
    }
   ],
   "source": [
    "!pip install pycryptodomex"
   ]
  },
  {
   "cell_type": "code",
   "execution_count": 4,
   "metadata": {},
   "outputs": [],
   "source": [
    "import base64\n",
    "import hashlib\n",
    "\n",
    "from Cryptodome import Random\n",
    "from Cryptodome.Cipher import AES"
   ]
  },
  {
   "cell_type": "code",
   "execution_count": 7,
   "metadata": {},
   "outputs": [],
   "source": [
    "class MyCipher:\n",
    "    def __init__(self): \n",
    "        self.BS = 16\n",
    "        self.pad = lambda s: s + (self.BS-len(s.encode('utf-8')) % self.BS) * chr(self.BS - len(s.encode('utf-8')) % self.BS)\n",
    "        self.unpad = lambda s: s[0:-s[-1]]\n",
    "        self.key = hashlib.sha256().digest()\n",
    "        \n",
    "    def encrypt(self,raw):\n",
    "        raw = pad(raw) \n",
    "        iv = Random.new().read(AES.block_size) \n",
    "        cipher = AES.new(self.key, AES.MODE_CFB, iv) \n",
    "        return base64.b64encode(iv + cipher.encrypt(raw.encode('utf-8')))\n",
    "    \n",
    "    def decrypt(self, enc): \n",
    "        enc = base64.b64decode(enc) \n",
    "        iv = enc[:16] \n",
    "        cipher = AES.new(self.key, AES.MODE_CFB, iv) \n",
    "        return self.unpad(cipher.decrypt(enc[16:]))\n",
    "    \n",
    "    def encrypt_str(self, raw):\n",
    "        return self.encrypt(raw).decode('utf-8')\n",
    "    \n",
    "    def decrypt_str(self, enc):\n",
    "        if type(enc) == str:\n",
    "            enc = str.encode(enc)\n",
    "        return self.decrypt(enc).decode('utf-8')"
   ]
  },
  {
   "cell_type": "code",
   "execution_count": 9,
   "metadata": {},
   "outputs": [
    {
     "ename": "TypeError",
     "evalue": "encrypt_str() missing 1 required positional argument: 'raw'",
     "output_type": "error",
     "traceback": [
      "\u001b[1;31m---------------------------------------------------------------------------\u001b[0m",
      "\u001b[1;31mTypeError\u001b[0m                                 Traceback (most recent call last)",
      "\u001b[1;32m<ipython-input-9-eaf47ec1894b>\u001b[0m in \u001b[0;36m<module>\u001b[1;34m\u001b[0m\n\u001b[0;32m      2\u001b[0m \u001b[1;33m\u001b[0m\u001b[0m\n\u001b[0;32m      3\u001b[0m \u001b[1;32mif\u001b[0m \u001b[0min_str\u001b[0m \u001b[1;33m!=\u001b[0m \u001b[1;32mNone\u001b[0m\u001b[1;33m:\u001b[0m\u001b[1;33m\u001b[0m\u001b[1;33m\u001b[0m\u001b[0m\n\u001b[1;32m----> 4\u001b[1;33m     \u001b[0min_enc\u001b[0m \u001b[1;33m=\u001b[0m \u001b[0mMyCipher\u001b[0m\u001b[1;33m.\u001b[0m\u001b[0mencrypt_str\u001b[0m\u001b[1;33m(\u001b[0m\u001b[0min_str\u001b[0m\u001b[1;33m)\u001b[0m \u001b[1;31m# 암호화\u001b[0m\u001b[1;33m\u001b[0m\u001b[1;33m\u001b[0m\u001b[0m\n\u001b[0m\u001b[0;32m      5\u001b[0m     \u001b[0mprint\u001b[0m\u001b[1;33m(\u001b[0m\u001b[0min_enc\u001b[0m\u001b[1;33m)\u001b[0m\u001b[1;33m\u001b[0m\u001b[1;33m\u001b[0m\u001b[0m\n\u001b[0;32m      6\u001b[0m     \u001b[0mprint\u001b[0m\u001b[1;33m(\u001b[0m\u001b[0mMyCipyer\u001b[0m\u001b[1;33m.\u001b[0m\u001b[0mdecrypt_str\u001b[0m\u001b[1;33m(\u001b[0m\u001b[0min_enc\u001b[0m\u001b[1;33m)\u001b[0m\u001b[1;33m)\u001b[0m \u001b[1;31m# 복호화\u001b[0m\u001b[1;33m\u001b[0m\u001b[1;33m\u001b[0m\u001b[0m\n",
      "\u001b[1;31mTypeError\u001b[0m: encrypt_str() missing 1 required positional argument: 'raw'"
     ]
    }
   ],
   "source": [
    "in_str = '123456789'\n",
    "\n",
    "if in_str != None:\n",
    "    in_enc = MyCipher.encrypt_str(in_str) # 암호화\n",
    "    print(in_enc)\n",
    "    print(MyCipyer.decrypt_str(in_enc)) # 복호화"
   ]
  },
  {
   "cell_type": "markdown",
   "metadata": {},
   "source": [
    "## 암호화 테스트 3"
   ]
  },
  {
   "cell_type": "code",
   "execution_count": 1,
   "metadata": {},
   "outputs": [],
   "source": [
    "#import crypto\n",
    "#import sys\n",
    "#sys.modules['Crypto'] = crypto\n",
    "\n",
    "import base64\n",
    "from Crypto import Random\n",
    "from Crypto.Cipher import AES"
   ]
  },
  {
   "cell_type": "code",
   "execution_count": 2,
   "metadata": {},
   "outputs": [],
   "source": [
    "# 블럭사이즈에 대한 패딩로직\n",
    "\n",
    "BS = 16\n",
    "pad = lambda s: s + (BS - len(s.encode('utf-8')) % BS) * chr(BS - len(s.encode('utf-8')) % BS)\n",
    "unpad = lambda s : s[:-ord(s[len(s)-1:])]"
   ]
  },
  {
   "cell_type": "code",
   "execution_count": 38,
   "metadata": {},
   "outputs": [],
   "source": [
    "class AESCipher:\n",
    "    def __init__(self):\n",
    "        self.key = hashlib.sha256().digest()\n",
    "\n",
    "    def encrypt(self, raw):\n",
    "        raw = pad(raw)\n",
    "        iv = Random.new().read( AES.block_size )\n",
    "        cipher = AES.new( self.key, AES.MODE_CBC, iv )\n",
    "        return base64.b64encode( iv + cipher.encrypt( raw.encode('utf-8') ) )\n",
    "\n",
    "    def decrypt(self, enc):\n",
    "        enc = base64.b64decode(enc)\n",
    "        iv = enc[:16]\n",
    "        cipher = AES.new(self.key, AES.MODE_CBC, iv )\n",
    "        return unpad(cipher.decrypt( enc[16:] ))"
   ]
  },
  {
   "cell_type": "code",
   "execution_count": 52,
   "metadata": {},
   "outputs": [
    {
     "name": "stdout",
     "output_type": "stream",
     "text": [
      "1608528602\n"
     ]
    }
   ],
   "source": [
    "## 생성자에서 hashlib으로 생성하도록 변경, key 설정 불필요\n",
    "# KEY 설정\n",
    "\n",
    "# 리스트에 셋팅하는 방식\n",
    "key = [0x10, 0x01, 0x15, 0x1B, 0xA1, 0x11, 0x57, 0x72, 0x6C, 0x21, 0x56, 0x57, 0x62, 0x16, 0x05, 0x3D,\n",
    "        0xFF, 0xFE, 0x11, 0x1B, 0x21, 0x31, 0x57, 0x72, 0x6B, 0x21, 0xA6, 0xA7, 0x6E, 0xE6, 0xE5, 0x3F]\n",
    "\n",
    "# 임의로 생성하는 방식\n",
    "import base64\n",
    "import hashlib\n",
    "import time\n",
    "\n",
    "def make_pass():\n",
    "    timekey = int(time.time())\n",
    "    print(timekey)\n",
    "    return str(timekey)\n",
    "\n",
    "password = make_pass().encode('utf-8')"
   ]
  },
  {
   "cell_type": "code",
   "execution_count": 7,
   "metadata": {},
   "outputs": [],
   "source": [
    "data = \"Iran has seized a foreign oil tanker in the Persian Gulf that was smuggling fuel to some Arab states, according to a state television report on Sunday. The report said that the tanker had been detained and the ship's foreign crew held by the country's elite Islamic Revolutionary Guards Corps.\""
   ]
  },
  {
   "cell_type": "code",
   "execution_count": 34,
   "metadata": {},
   "outputs": [
    {
     "data": {
      "text/plain": [
       "b'ODHsJei9MLCC7l6DBDkl49O8uFt45cj0SBFPh6RdUNI='"
      ]
     },
     "execution_count": 34,
     "metadata": {},
     "output_type": "execute_result"
    }
   ],
   "source": [
    "password"
   ]
  },
  {
   "cell_type": "code",
   "execution_count": 39,
   "metadata": {},
   "outputs": [
    {
     "data": {
      "text/plain": [
       "b'SfcH+h6N90IxA7/mpsM/f0X3o0VNPs/h3oZEHphDiYM4swLuND8oxjl5OgMdhPu3dSfswrecppn/PHwyxckUmmVA0j9UHPdlqq7t7rGgWNnKkezql7tAs44Lozru2AX8gDNqngGtEoZphmYO5cF7vFMlGUE6RfbBisi3VD7GL1DzxVy9f/YbsZ+LYPEbqNFpuLU0Nm3DcT6yZ5cmrzMUcnNA314FFAdhG93oqzdiAQrkiHnjHqBvdFDj4qTavMOVoI+Dv+tTj29aGIVnjpYP2xN+ihAeorl4F6SZXTNfuVRi1Pj7yvVsU5TbV0R/PXMFup892iqLXpxTTVNjIJybsLysnQiENMbX2bfxfANoP4CLw5A75buOYPhLhew9eiRmpH6WUZI6M3Z13mSXfnoEYXtOqF26hmoF7gGogHWvFBk='"
      ]
     },
     "execution_count": 39,
     "metadata": {},
     "output_type": "execute_result"
    }
   ],
   "source": [
    "# 데이터 암호화\n",
    "encrypted_data = AESCipher().encrypt(data)  \n",
    "encrypted_data"
   ]
  },
  {
   "cell_type": "code",
   "execution_count": 41,
   "metadata": {},
   "outputs": [
    {
     "data": {
      "text/plain": [
       "\"Iran has seized a foreign oil tanker in the Persian Gulf that was smuggling fuel to some Arab states, according to a state television report on Sunday. The report said that the tanker had been detained and the ship's foreign crew held by the country's elite Islamic Revolutionary Guards Corps.\""
      ]
     },
     "execution_count": 41,
     "metadata": {},
     "output_type": "execute_result"
    }
   ],
   "source": [
    "# 데이터 복호화\n",
    "decrypted_data = AESCipher().decrypt(encrypted_data)\n",
    "decrypted_data.decode('utf-8')"
   ]
  },
  {
   "cell_type": "markdown",
   "metadata": {},
   "source": [
    "## YAML 파일 암호화"
   ]
  },
  {
   "cell_type": "code",
   "execution_count": 13,
   "metadata": {},
   "outputs": [],
   "source": [
    "import yaml"
   ]
  },
  {
   "cell_type": "code",
   "execution_count": 43,
   "metadata": {},
   "outputs": [
    {
     "name": "stdout",
     "output_type": "stream",
     "text": [
      "{'tibero': {'class_name': 'com.tmax.tibero.jdbc.TbDriver', 'url': 'jdbc:tibero:thin:@IP:1521:CAIRS', 'user': 'test', 'password': 'test1234'}}\n"
     ]
    }
   ],
   "source": [
    "with open('test.yml') as f:\n",
    "    test = yaml.load(f, Loader=yaml.FullLoader)\n",
    "    print(test)\n",
    "    \n",
    "tibero = test.get('tibero',{})\n",
    "user = tibero.get('user')\n",
    "password = tibero.get('password')\n"
   ]
  },
  {
   "cell_type": "code",
   "execution_count": 44,
   "metadata": {},
   "outputs": [
    {
     "data": {
      "text/plain": [
       "b'Y68Cwtdd7o/zAclZ5Fyi0TZqHE9tQ3w/nB3ct11njmE='"
      ]
     },
     "execution_count": 44,
     "metadata": {},
     "output_type": "execute_result"
    }
   ],
   "source": [
    "# 데이터 암호화\n",
    "encrypted_user = AESCipher().encrypt(user)  \n",
    "encrypted_user"
   ]
  },
  {
   "cell_type": "code",
   "execution_count": 46,
   "metadata": {},
   "outputs": [
    {
     "data": {
      "text/plain": [
       "b'VqpqPaUMaGYSD9wDIMVD7CiT/ZuS9OlupdvEr/lx7Ok='"
      ]
     },
     "execution_count": 46,
     "metadata": {},
     "output_type": "execute_result"
    }
   ],
   "source": [
    "encrypted_password = AESCipher().encrypt(password)  \n",
    "encrypted_password"
   ]
  },
  {
   "cell_type": "code",
   "execution_count": 47,
   "metadata": {},
   "outputs": [],
   "source": [
    "enc_tibero = {'tibero': {'class_name': 'com.tmax.tibero.jdbc.TbDriver', 'url': 'jdbc:tibero:thin:@IP:1521:CAIRS', 'user': encrypted_user, 'password': encrypted_password}}\n",
    "\n",
    "with open('enc_test.yaml', 'w') as f:\n",
    "    yaml.dump(enc_tibero, f)\n"
   ]
  },
  {
   "cell_type": "markdown",
   "metadata": {},
   "source": [
    "## 암호화 된 YAML LOAD"
   ]
  },
  {
   "cell_type": "code",
   "execution_count": 48,
   "metadata": {},
   "outputs": [
    {
     "name": "stdout",
     "output_type": "stream",
     "text": [
      "{'tibero': {'class_name': 'com.tmax.tibero.jdbc.TbDriver', 'password': b'VqpqPaUMaGYSD9wDIMVD7CiT/ZuS9OlupdvEr/lx7Ok=', 'url': 'jdbc:tibero:thin:@IP:1521:CAIRS', 'user': b'Y68Cwtdd7o/zAclZ5Fyi0TZqHE9tQ3w/nB3ct11njmE='}}\n"
     ]
    }
   ],
   "source": [
    "with open('enc_test.yaml') as f:\n",
    "    test = yaml.load(f, Loader=yaml.FullLoader)\n",
    "    print(test)\n",
    "    \n",
    "tibero = test.get('tibero',{})\n",
    "user2 = tibero.get('user')\n",
    "password2 = tibero.get('password')"
   ]
  },
  {
   "cell_type": "code",
   "execution_count": 50,
   "metadata": {},
   "outputs": [
    {
     "data": {
      "text/plain": [
       "'test'"
      ]
     },
     "execution_count": 50,
     "metadata": {},
     "output_type": "execute_result"
    }
   ],
   "source": [
    "# 데이터 복호화\n",
    "decrypted_user = AESCipher().decrypt(user2)\n",
    "decrypted_user.decode('utf-8')"
   ]
  },
  {
   "cell_type": "code",
   "execution_count": 51,
   "metadata": {},
   "outputs": [
    {
     "data": {
      "text/plain": [
       "'test1234'"
      ]
     },
     "execution_count": 51,
     "metadata": {},
     "output_type": "execute_result"
    }
   ],
   "source": [
    "# 데이터 복호화\n",
    "decrypted_password = AESCipher().decrypt(password2)\n",
    "decrypted_password.decode('utf-8')"
   ]
  },
  {
   "cell_type": "code",
   "execution_count": null,
   "metadata": {},
   "outputs": [],
   "source": []
  }
 ],
 "metadata": {
  "kernelspec": {
   "display_name": "Python 3",
   "language": "python",
   "name": "python3"
  },
  "language_info": {
   "codemirror_mode": {
    "name": "ipython",
    "version": 3
   },
   "file_extension": ".py",
   "mimetype": "text/x-python",
   "name": "python",
   "nbconvert_exporter": "python",
   "pygments_lexer": "ipython3",
   "version": "3.8.3"
  }
 },
 "nbformat": 4,
 "nbformat_minor": 4
}
